{
 "cells": [
  {
   "cell_type": "code",
   "execution_count": 1,
   "metadata": {},
   "outputs": [],
   "source": [
    "import requests\n",
    "import datetime\n",
    "from datetime import datetime"
   ]
  },
  {
   "cell_type": "code",
   "execution_count": 2,
   "metadata": {},
   "outputs": [],
   "source": [
    "base_cowin_url = \"https://cdn-api.co-vin.in/api/v2/appointment/sessions/public/findByDistrict\"\n",
    "\n",
    "api_url_telegram = \"https://api.telegram.org/bot<YOUR_TELEGRAM_HTTP_API_KEY>/sendMessage?chat_id=<YOUR_CHAT_ID>&text=\"\n"
   ]
  },
  {
   "cell_type": "code",
   "execution_count": 3,
   "metadata": {},
   "outputs": [],
   "source": [
    "now = datetime.now()\n",
    "today_date = now.strftime(\"%d-%m-%y\")"
   ]
  },
  {
   "cell_type": "code",
   "execution_count": 4,
   "metadata": {},
   "outputs": [],
   "source": [
    "odisha_district_ids = [446]\n",
    "\n",
    "def fetch_data_from_cowin(district_id):\n",
    "  query_params = \"?district_id={}&date={}\".format(district_id,today_date)\n",
    "  headers = {\"Content-type\": \"application/json\"}\n",
    "  final_url = base_cowin_url+query_params\n",
    "  response = requests.get(final_url, headers=headers)\n",
    "  extract_availibility_data(response)\n",
    "\n",
    "#print(text.response)"
   ]
  },
  {
   "cell_type": "code",
   "execution_count": 5,
   "metadata": {},
   "outputs": [],
   "source": [
    "def fetch_data_for_state(district_ids):\n",
    "      for district_id in district_ids:\n",
    "            fetch_data_from_cowin(district_id)"
   ]
  },
  {
   "cell_type": "code",
   "execution_count": 6,
   "metadata": {},
   "outputs": [],
   "source": [
    "def extract_availibility_data(response):\n",
    "      response_json = response.json()\n",
    "      for center in response_json[\"sessions\"]:\n",
    "            if center[\"available_capacity_dose1\"] > 0 and center[\"min_age_limit\"] == 45:\n",
    "                  message = \"Pincode: {},\\nCenter Name: {},\\nSlots: {},\\nMinimum Age: {}\".format(\n",
    "                  center[\"pincode\"], center[\"name\"],\n",
    "                  center[\"available_capacity_dose1\"],\n",
    "                  center[\"min_age_limit\"])\n",
    "                  #print(message)\n",
    "                  send_message_telegram(message)\n",
    "\n",
    "            if center[\"available_capacity_dose1\"] > 0 and center[\"min_age_limit\"] == 18:\n",
    "                  message = \"Pincode: {},\\nCenter Name: {},\\nSlots: {},\\nMinimum Age: {}\".format(\n",
    "                  center[\"pincode\"], center[\"name\"],\n",
    "                  center[\"available_capacity_dose1\"],\n",
    "                  center[\"min_age_limit\"])\n",
    "                  #print(message)\n",
    "                  send_message_telegram(message)"
   ]
  },
  {
   "cell_type": "code",
   "execution_count": 7,
   "metadata": {},
   "outputs": [
    {
     "name": "stdout",
     "output_type": "stream",
     "text": [
      "<Response [404]>\n",
      "<Response [404]>\n",
      "<Response [404]>\n",
      "<Response [404]>\n",
      "<Response [404]>\n",
      "<Response [404]>\n"
     ]
    }
   ],
   "source": [
    "def send_message_telegram(message):\n",
    "      final_telegram_url = api_url_telegram + message\n",
    "      response1 = requests.get(final_telegram_url)\n",
    "      print(response1)\n",
    "      #print(final_telegram_url)\n",
    "      \n",
    "      \n",
    "if __name__ == \"__main__\":\n",
    "      fetch_data_for_state(odisha_district_ids)"
   ]
  },
  {
   "cell_type": "code",
   "execution_count": null,
   "metadata": {},
   "outputs": [],
   "source": []
  }
 ],
 "metadata": {
  "kernelspec": {
   "display_name": "Python 3",
   "language": "python",
   "name": "python3"
  },
  "language_info": {
   "codemirror_mode": {
    "name": "ipython",
    "version": 3
   },
   "file_extension": ".py",
   "mimetype": "text/x-python",
   "name": "python",
   "nbconvert_exporter": "python",
   "pygments_lexer": "ipython3",
   "version": "3.8.5"
  }
 },
 "nbformat": 4,
 "nbformat_minor": 4
}
